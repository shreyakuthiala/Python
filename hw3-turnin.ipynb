{
 "cells": [
  {
   "cell_type": "markdown",
   "metadata": {
    "collapsed": false
   },
   "source": [
    "# **Homework 3**"
   ]
  },
  {
   "cell_type": "markdown",
   "metadata": {
    "collapsed": false
   },
   "source": [
   ]
  },
  {
   "cell_type": "code",
   "execution_count": 6,
   "metadata": {
    "collapsed": false
   },
   "outputs": [
   ],
   "source": [
    "# From Homework 1: Representative dataset of age of first-time mothers in USA in 1980 and 2016\n",
    "import numpy as np\n",
    "import matplotlib as mat\n",
    "import matplotlib.pyplot as plt\n",
    "import seaborn as sns\n",
    "%matplotlib inline\n",
    "\n",
    "ages1980 = [23,32,20,27,28,20,29,25,19,19,19,27,27,25,24,18,17,20,22,17,22,20,19,23,16,20,20,15,17,15,15,19,21,25,17,28,18,23,24,24,20,24,23,28,33,25,25,21,24,20,21,25,17,21,24,29,34,22,20,23,23,16,22,24,23,16,22,20,17,27,23,21,16,19,29,25,23,16,19,21,26,26,26,31,17,20,18,21,22,27,30,16,17,21,26,16,31,22,30,21,24,22,23,22,26,27,24,28,27,20,21,20,22,21,33,22,18,28,19,24,26,18,22,14,23,19,17,18,23,29,25,28,18,32,19,21,25,18,18,19,18,23,24,18,21,21,26,26,18,25,19,27,21,27,20,27,19,19,36,22,29,19,26,20,17,17,20,19,25,21,28,31,17,18,29,24,26,19,19,23,16,30,18,28,18,20,31,24,26,22,32,25,18,22,30,19,35,20,15,30]\n",
    "ages2016 = [21,29,41,23,35,16,18,19,26,29,33,19,18,28,21,18,24,31,37,31,27,36,26,23,34,25,22,33,27,26,26,30,32,20,28,20,24,20,22,33,24,20,19,23,19,28,34,33,19,38,31,16,38,19,22,25,31,26,34,21,20,30,27,20,29,14,18,30,31,17,36,33,32,32,19,29,35,28,22,27,34,29,28,22,20,29,33,22,25,26,26,31,30,26,37,34,27,20,21,25,32,18,28,27,35,31,31,26,25,24,30,15,28,26,17,35,27,24,23,20,24,21,31,18,29,24,27,28,20,21,21,32,23,35,39,19,28,30,31,23,21,39,23,32,25,28,36,19,23,17,21,30,27,32,27,22,19,22,28,28,24,32,22,37,21,30,30,23,29,29,18,40,33,27,25,26,22,29,27,30,29,30,25,28,24,23,17,19,36,18,29,22,25,20,20,34,32,21,21,25]"
   ]
  },
  {
   "cell_type": "code",
   "execution_count": 7,
   "metadata": {
    "collapsed": false
   },
   "outputs": [
   ],
   "source": [
    "# Diarrhea dataset from Figueroa-Quintanilla and others (1993)\n",
    "\n",
    "control = [131,178,127,403,413,60,859,247,278,66,210,237,105,79,307,90,244,165,59,420,159,105,667,551,61,351,59,197,173,62,386,276,85,381,567,240,539,480,157,346,69,1101,176,193,493,113,88,55,373,73,99,234,134,57,66,84,135,371,56,199,229,384,392,490,354,162,224,62,56,210,187,141,114,1677,55,615,55,193,68,590,154,130,559,75]\n",
    "treatment = [237,110,106,1099,65,74,156,60,98,234,105,79,258,61,60,196,57,55,55,62,247,121,76,365,69,245,75,236,157,100,55,185,122,126,73,133,86,430,127,56,113,55,67,116,361,168,427,570,306,107,57,231,60,398,367,137,58,66,968,78,229,69,155,115,71,55,88,1025,108,102,371,163,349,69,208,91,84,100,61,94,175,57,356,144,99]"
   ]
  },
  {
   "cell_type": "raw",
   "metadata": {
    "collapsed": false
   },
   "source": [
    "#1 \n",
    "#Read Amrhein et al. (2019) and write a paragraph explaining what they call for scientists to stop doing and what they recommend using instead.\n",
    "#They are calling for the concept of statistical significance to be abandoned because it buckets the results of an experiment into \"statistically significant\" and \"statistically non-significant\". Many hold the false belief that the concept of statistical sginificance shows the real-ness of a result which distorts the way in which these results are interpreted. According to the reading, statistically significant estimates are \"biased upwards\" and \"to a large degree\" and statistically non-significant estimates are \"biased downwards\". One thing they recommend to do instead is to use confidence intervals as compatability intervals in order to eliminate bad practices. They are calling for a better application of the intervals in a way that avoids overconfidence - they are not calling for a complete eradication of p-values, rather less reliance on them. "
   ]
  },
  {
   "cell_type": "raw",
   "metadata": {
    "collapsed": false
   },
   "source": [
    "#2\n",
    "The mean number of new people infected by a patient with an infectious disease is called R0. This quantity is often studied in epidemiology.\n",
    "    a) Suppose two diseases have the same R0. What might this fact hide?\n",
    "    b) Speculate on the possible significance of this for disease control.\n",
    "\n",
    "a) if two diseases have the same R0, this may hide the potential of spread of this disease and it does not take into account the skew and spread of the data, along with important outliers that may contribute to understanding the spread of the disease. Using the mean would hide the potential spread of the disease and outliers. It is better to use the median to describe the data.\n",
    "\n",
    "b)The possible significance of this for disease control could be that the mean is hiding the wide range of data in terms of disease control and spread. To elaborate, this would mean that if the disease is more widespread than we think, then we would not be able to tell from the mean as it could be for a completely different dataset. Just because the H0 is the same for two diseases, this does not mean that the diseases will act in the same way."
   ]
  },
  {
   "cell_type": "raw",
   "metadata": {
    "collapsed": false
   },
   "source": [
    "#3\n",
    "The cartoon below is meant to be humorous. Explain the joke.\n",
    "\n",
    "The joke in the cartoon is that although there was a theory/study that the null hypothesis was not taught in schools anymore, the irony is that schools do, in fact, still teach about the null hypothesis, proving the theory (null hypothesis) that the other person was talking about to be proven incorrect. "
   ]
  },
  {
   "cell_type": "raw",
   "metadata": {
    "collapsed": false
   },
   "source": [
    "#4\n",
    "Why is giving a confidence interval with an effect size better than giving an effect size alone?\n",
    "\n",
    "Giving a confidence interval with an effect size is better than giving an effect size alone because the effect size measures the strength of the relationship between two variables. An effect size and p-value does not give any sense of precision of an estimated effect size, so it is necessary to use a confidence interval in order to reach a more accurate and precise conclusion.\n"
   ]
  },
  {
   "cell_type": "raw",
   "metadata": {
    "collapsed": false
   },
   "source": [
    "#5\n",
    "Describe a sample that is not representative of the population being studied (that was not\n",
    "given in lecture). Make sure that you explain how it is not representative.\n",
    "\n",
    "If we take a sample of the foot size of people on UCLA's basketball team, this is not representative of the foot size of people all throughout UCLA's campus. This is because the people on UCLA's basektball teams will have a bigger foot size comparable to those who are not on the basketball teams. "
   ]
  },
  {
   "cell_type": "raw",
   "metadata": {
    "collapsed": false
   },
   "source": [
    "#6\n",
    "We use sampling with replacement to make confidence intervals and null-hypothesis significance tests.\n",
    "    a) Why do we use sampling with replacement instead of sampling without replacement? Incorporate the definition of sampling with replacement.\n",
    "    b) Describe a real-world situation in which sampling without replacement makes sense.\n",
    "    \n",
    "a) The concept of sampling with replacement involves selecting an item in the sample space, then replacing it back to the sample space so that the number of elements in the sample spce is unchanged. We use sampling with replacement instead of sampling without replacement so that researchers do not have to deal with the issue of a finite population. Additionally, in sampling without replacement, the sample values pulled are dependent.\n",
    "\n",
    "b) An example we could use in which sampling without replacement makes sense is while modeling a card game such as a game of poker - when you have a hand of cards, once placing a card down, that card will not go back into anyone's hands until the deck is reshuffled again at the end of the game or when the game calls for this. "
   ]
  },
  {
   "cell_type": "raw",
   "metadata": {
    "collapsed": false
   },
   "source": [
    "#7\n",
    "Briefly explain how the steps for computing a 95% confidence interval are different from those for computing a 99% confidence interval.\n",
    "\n",
    "When computing a 95% confidence interval, we use z=1.96, however when computing a 99% confidence interval, we use z=2.576. The difference in the computations is simply the cutoff numbers used in the calculation."
   ]
  },
  {
   "cell_type": "code",
   "execution_count": 8,
   "metadata": {
    "collapsed": false
   },
   "outputs": [
    {
     "name": "stdout",
     "output_type": "stream",
     "text": [
      "We are 99% certain the true proportion of mothers in 1980  will fall in the range [ 10.100000000000001 - 29.1 ]\n"
     ]
    },
    {
     "data": {
      "text/plain": [
       "<matplotlib.lines.Line2D at 0x7fec85ec1ee0>"
      ]
     },
     "execution_count": 8,
     "metadata": {
     },
     "output_type": "execute_result"
    },
    {
     "data": {
      "image/png": "[encoded data removed]",
      "text/plain": [
       "<Figure size 360x360 with 1 Axes>"
      ]
     },
     "execution_count": 8,
     "metadata": {
      "image/png": {
       "height": 365,
       "width": 352
      },
      "needs_background": "light"
     },
     "output_type": "execute_result"
    }
   ],
   "source": [
    "#8a\n",
    "\n",
    "#For the age of first-time mothers in 1980 (data provided in Homework 1), do the steps below:\n",
    "\n",
    "    #a. Use simulations to calculate 99% confidence intervals for the appropriate measure of central tendency. As always, include your histogram of simulation results with the observed result indicated. Use comments to explain briefly what each line of your code does.\n",
    "    #b. What do the confidence intervals mean about the age of first-time mothers in 1980?\n",
    "\n",
    "\n",
    "ages1980 = sorted( ages1980 ) #list which has been sorted\n",
    "\n",
    "#FIND THE 50TH AND 9950 PERCENTILE\n",
    "Mlower = ages1980[9] #finds first .5 percentile\n",
    "Mupper = ages1980[198] #finds last .5 percentile\n",
    "\n",
    "Mobs = sum(ages1980) / len(ages1980)\n",
    "\n",
    "lowerlimit = 2*Mobs - Mupper\n",
    "upperlimit = 2*Mobs - Mlower\n",
    "\n",
    "print( 'We are 99% certain the true proportion of mothers in 1980  will fall in the range [', lowerlimit , '-' , upperlimit, ']'  )\n",
    "\n",
    "#PLOT DISTRIBUTION\n",
    "#ALONG WITH CI\n",
    "p = sns.displot( data = ages1980 )\n",
    "p.set( xlabel = 'Proportion of mothers in 1980 ' )\n",
    "plt.axvline( Mobs , color = 'r' )\n",
    "plt.axvline( lowerlimit , color = 'g' )\n",
    "plt.axvline( upperlimit , color = 'g' )\n",
    "\n",
    "#b) We are 99% sure that the interval of first time mothers in 1980 will fall in the range of [9-28]."
   ]
  },
  {
   "cell_type": "raw",
   "metadata": {
    "collapsed": false
   },
   "source": [
    "#9\n",
    "a. Visualize the data using an appropriate plot. Explain why you chose that plot.\n",
    "\n",
    "b. Calculate the appropriate measures of central tendency and variability. Explain why\n",
    "you chose those measures.\n",
    "\n",
    "c. Calculate the 99% confidence interval for the appropriate measure of central\n",
    "tendency for each dataset using simulation. As always, include your histogram of\n",
    "simulation results with the observed result indicated.\n",
    "\n",
    "d. What do you conclude from your analysis in parts (a-c)? Write a paragraph\n",
    "summarizing your conclusions, including any numbers"
   ]
  },
  {
   "cell_type": "code",
   "execution_count": 9,
   "metadata": {
    "collapsed": false
   },
   "outputs": [
    {
     "data": {
      "text/plain": [
       "<seaborn.axisgrid.FacetGrid at 0x7fec85e192b0>"
      ]
     },
     "execution_count": 9,
     "metadata": {
     },
     "output_type": "execute_result"
    },
    {
     "data": {
      "image/png": "[encoded data removed]",
      "text/plain": [
       "<Figure size 360x360 with 1 Axes>"
      ]
     },
     "execution_count": 9,
     "metadata": {
      "image/png": {
       "height": 365,
       "width": 352
      },
      "needs_background": "light"
     },
     "output_type": "execute_result"
    }
   ],
   "source": [
    "#9a\n",
    "p = sns.displot(data=control)\n",
    "p.set( xlabel = 'control dataset' )\n",
    "#We chose to use a histogram plot because it is the graph that represents the data in the best way and makes it clear for us to read and interprey the data. "
   ]
  },
  {
   "cell_type": "code",
   "execution_count": 10,
   "metadata": {
    "collapsed": false
   },
   "outputs": [
    {
     "name": "stdout",
     "output_type": "stream",
     "text": [
      "182.5\n",
      "111.5\n"
     ]
    }
   ],
   "source": [
    "#9b\n",
    "print(np.median(control))\n",
    "def MADfinder (dataset):\n",
    "    MAD_list = dataset\n",
    "    MAD_ab_list=[]\n",
    "    sum = 0\n",
    "    for i in range(len(MAD_list)):\n",
    "        mad = np.abs(MAD_list[i]-np.median(MAD_list))\n",
    "        MAD_ab_list.append(mad)\n",
    "        madmed=np.median(MAD_ab_list)\n",
    "    print(madmed)\n",
    "MADfinder(control)"
   ]
  },
  {
   "cell_type": "code",
   "execution_count": 0,
   "metadata": {
    "collapsed": false
   },
   "outputs": [
   ],
   "source": [
    "len(control)"
   ]
  },
  {
   "cell_type": "code",
   "execution_count": 0,
   "metadata": {
    "collapsed": false
   },
   "outputs": [
   ],
   "source": [
    "np.median(control)"
   ]
  },
  {
   "cell_type": "code",
   "execution_count": 0,
   "metadata": {
    "collapsed": false
   },
   "outputs": [
   ],
   "source": [
    "#9c\n",
    "control = sorted( control ) #list which has been sorted\n",
    "\n",
    "#FIND THE 50TH AND 9950 PERCENTILE\n",
    "Mlower = control[3] #finds first .5 percentile\n",
    "Mupper = control[79] #finds last .5 percentile\n",
    "Mobs = 182.5\n",
    "\n",
    "lowerlimit = 2*Mobs - Mupper\n",
    "upperlimit = 2*Mobs - Mlower\n",
    "\n",
    "print( 'We are 99% certain the control will fall in the range [', lowerlimit , '-' , upperlimit, ']'  )\n",
    "\n",
    "#PLOT DISTRIBUTION\n",
    "#ALONG WITH CI\n",
    "p = sns.displot( data = control )\n",
    "p.set( xlabel = 'stool volumes' )\n",
    "plt.axvline( Mobs , color = 'r' )\n",
    "plt.axvline( lowerlimit , color = 'g' )\n",
    "plt.axvline( upperlimit , color = 'g' )"
   ]
  },
  {
   "cell_type": "raw",
   "metadata": {
    "collapsed": false
   },
   "source": [
    "#9d\n",
    "From the histogram, we can conclude that the data is right-skewed, which indicates that the mean is an increased value. Additionally, we can see the presence of outliers within the graph. The variability is indicated to be high as we can tell from the values of the MAD function. We are 99% certain that the value of the stool volume will fall between [-250-309]."
   ]
  },
  {
   "cell_type": "code",
   "execution_count": 0,
   "metadata": {
    "collapsed": false
   },
   "outputs": [
   ],
   "source": [
   ]
  },
  {
   "cell_type": "code",
   "execution_count": 0,
   "metadata": {
    "collapsed": false
   },
   "outputs": [
   ],
   "source": [
    "#10a\n",
    "p = sns.displot(data=treatment)\n",
    "p.set( xlabel = 'treatment dataset' )\n",
    "#We chose to use a histogram plot because it is the graph that represents the data in the best way and makes it clear for us to read and interprey the data. "
   ]
  },
  {
   "cell_type": "code",
   "execution_count": 0,
   "metadata": {
    "collapsed": false
   },
   "outputs": [
   ],
   "source": [
    "#10b\n",
    "print(np.median(treatment))\n",
    "def MADfinder (dataset):\n",
    "    MAD_list = dataset\n",
    "    MAD_ab_list=[]\n",
    "    sum = 0\n",
    "    for i in range(len(MAD_list)):\n",
    "        mad = np.abs(MAD_list[i]-np.median(MAD_list))\n",
    "        MAD_ab_list.append(mad)\n",
    "        madmed=np.median(MAD_ab_list)\n",
    "    print(madmed)\n",
    "\n",
    "MADfinder(treatment)"
   ]
  },
  {
   "cell_type": "code",
   "execution_count": 0,
   "metadata": {
    "collapsed": false
   },
   "outputs": [
   ],
   "source": [
    "len(treatment)"
   ]
  },
  {
   "cell_type": "code",
   "execution_count": 0,
   "metadata": {
    "collapsed": false
   },
   "outputs": [
   ],
   "source": [
    "np.median(treatment)"
   ]
  },
  {
   "cell_type": "code",
   "execution_count": 0,
   "metadata": {
    "collapsed": false
   },
   "outputs": [
   ],
   "source": [
    "#10c\n",
    "#9c\n",
    "control = sorted( control ) #list which has been sorted\n",
    "\n",
    "#FIND THE 50TH AND 9950 PERCENTILE\n",
    "Mlower = treatment[3] #finds first .5 percentile\n",
    "Mupper = treatment[84] #finds last .5 percentile\n",
    "Mobs = 108\n",
    "\n",
    "lowerlimit = 2*Mobs - Mupper\n",
    "upperlimit = 2*Mobs - Mlower\n",
    "\n",
    "print( 'We are 99% certain the control will fall in the range [', lowerlimit , '-' , upperlimit, ']'  )\n",
    "\n",
    "#PLOT DISTRIBUTION\n",
    "#ALONG WITH CI\n",
    "p = sns.displot( data = control )\n",
    "p.set( xlabel = 'stool volumes' )\n",
    "plt.axvline( Mobs , color = 'r' )\n",
    "plt.axvline( lowerlimit , color = 'g' )\n",
    "plt.axvline( upperlimit , color = 'g' )"
   ]
  },
  {
   "cell_type": "raw",
   "metadata": {
    "collapsed": false
   },
   "source": [
    "#10d\n",
    "From the histogram, we can conclude that the data is right-skewed, which indicates that the mean is an increased value. Additionally, we can see the presence of outliers within the graph. The variability is indicated to be high as we can tell from the values of the MAD function. We are 99% certain that the value of the stool volume will fall between [-883 and 117]."
   ]
  },
  {
   "cell_type": "code",
   "execution_count": 0,
   "metadata": {
    "collapsed": false
   },
   "outputs": [
   ],
   "source": [
   ]
  },
  {
   "cell_type": "code",
   "execution_count": 0,
   "metadata": {
    "collapsed": false
   },
   "outputs": [
   ],
   "source": [
   ]
  },
  {
   "cell_type": "code",
   "execution_count": 0,
   "metadata": {
    "collapsed": false
   },
   "outputs": [
   ],
   "source": [
   ]
  },
  {
   "cell_type": "code",
   "execution_count": 0,
   "metadata": {
    "collapsed": false
   },
   "outputs": [
   ],
   "source": [
   ]
  }
 ],
 "metadata": {
  "kernelspec": {
   "argv": [
    "/ext/anaconda2021.11/bin/python3",
    "-E",
    "-m",
    "ipykernel",
    "--matplotlib=inline",
    "-c",
    "%config InlineBackend.figure_formats = set(['retina'])\nimport matplotlib; matplotlib.rcParams['figure.figsize'] = (12, 7)",
    "-f",
    "{connection_file}"
   ],
   "display_name": "Python 3 (Anaconda 2021)",
   "env": {
    "ADDR2LINE": "/ext/anaconda2021.11/bin/x86_64-conda_cos6-linux-gnu-addr2line",
    "ANACONDA2021": "/ext/anaconda2021.11",
    "ANACONDA3": "$EXT/anaconda3",
    "ANACONDA5": "$EXT/anaconda5",
    "AR": "/ext/anaconda2021.11/bin/x86_64-conda_cos6-linux-gnu-ar",
    "AS": "/ext/anaconda2021.11/bin/x86_64-conda_cos6-linux-gnu-as",
    "CC": "/ext/anaconda2021.11/bin/x86_64-conda_cos6-linux-gnu-cc",
    "CFLAGS": "-march=nocona -mtune=haswell -ftree-vectorize -fPIC -fstack-protector-strong -fno-plt -O2 -ffunction-sections -pipe -isystem /ext/anaconda2021.11/include",
    "CMAKE_PREFIX_PATH": "/ext/anaconda2021.11:/ext/anaconda2021.11/x86_64-conda_cos6-linux-gnu/sysroot/usr",
    "CONDA_BACKUP_HOST": "x86_64-conda_cos6-linux-gnu",
    "CONDA_BUILD_SYSROOT": "/ext/anaconda2021.11/x86_64-conda_cos6-linux-gnu/sysroot",
    "CONDA_DEFAULT_ENV": "base",
    "CONDA_EXE": "/ext/anaconda2021.11/bin/conda",
    "CONDA_MKL_INTERFACE_LAYER_BACKUP": "",
    "CONDA_PREFIX": "/ext/anaconda2021.11",
    "CONDA_PROMPT_MODIFIER": "(base) ",
    "CONDA_PYTHON_EXE": "/ext/anaconda2021.11/bin/python",
    "CONDA_SHLVL": "1",
    "CPP": "/ext/anaconda2021.11/bin/x86_64-conda_cos6-linux-gnu-cpp",
    "CPPFLAGS": "-DNDEBUG -D_FORTIFY_SOURCE=2 -O2 -isystem /ext/anaconda2021.11/include",
    "CXX": "/ext/anaconda2021.11/bin/x86_64-conda_cos6-linux-gnu-c++",
    "CXXFILT": "/ext/anaconda2021.11/bin/x86_64-conda_cos6-linux-gnu-c++filt",
    "CXXFLAGS": "-fvisibility-inlines-hidden -std=c++17 -fmessage-length=0 -march=nocona -mtune=haswell -ftree-vectorize -fPIC -fstack-protector-strong -fno-plt -O2 -ffunction-sections -pipe -isystem /ext/anaconda2021.11/include",
    "DEBUG_CFLAGS": "-march=nocona -mtune=haswell -ftree-vectorize -fPIC -fstack-protector-all -fno-plt -Og -g -Wall -Wextra -fvar-tracking-assignments -ffunction-sections -pipe -isystem /ext/anaconda2021.11/include",
    "DEBUG_CPPFLAGS": "-D_DEBUG -D_FORTIFY_SOURCE=2 -Og -isystem /ext/anaconda2021.11/include",
    "DEBUG_CXXFLAGS": "-fvisibility-inlines-hidden -std=c++17 -fmessage-length=0 -march=nocona -mtune=haswell -ftree-vectorize -fPIC -fstack-protector-all -fno-plt -Og -g -Wall -Wextra -fvar-tracking-assignments -ffunction-sections -pipe -isystem /ext/anaconda2021.11/include",
    "DEBUG_FFLAGS": "-fopenmp -march=nocona -mtune=haswell -ftree-vectorize -fPIC -fstack-protector-strong -fno-plt -O2 -ffunction-sections -pipe -isystem /ext/anaconda2021.11/include -fopenmp -march=nocona -mtune=haswell -ftree-vectorize -fPIC -fstack-protector-all -fno-plt -Og -g -Wall -Wextra -fcheck=all -fbacktrace -fimplicit-none -fvar-tracking-assignments -ffunction-sections -pipe",
    "DEBUG_FORTRANFLAGS": "-fopenmp -march=nocona -mtune=haswell -ftree-vectorize -fPIC -fstack-protector-strong -fno-plt -O2 -ffunction-sections -pipe -isystem /ext/anaconda2021.11/include -fopenmp -march=nocona -mtune=haswell -ftree-vectorize -fPIC -fstack-protector-all -fno-plt -Og -g -Wall -Wextra -fcheck=all -fbacktrace -fimplicit-none -fvar-tracking-assignments -ffunction-sections -pipe",
    "ELFEDIT": "/ext/anaconda2021.11/bin/x86_64-conda_cos6-linux-gnu-elfedit",
    "F77": "/ext/anaconda2021.11/bin/x86_64-conda_cos6-linux-gnu-gfortran",
    "F90": "/ext/anaconda2021.11/bin/x86_64-conda_cos6-linux-gnu-gfortran",
    "F95": "/ext/anaconda2021.11/bin/x86_64-conda_cos6-linux-gnu-f95",
    "FC": "/ext/anaconda2021.11/bin/x86_64-conda_cos6-linux-gnu-gfortran",
    "FFLAGS": "-fopenmp -march=nocona -mtune=haswell -ftree-vectorize -fPIC -fstack-protector-strong -fno-plt -O2 -ffunction-sections -pipe -isystem /ext/anaconda2021.11/include",
    "FORTRANFLAGS": "-fopenmp -march=nocona -mtune=haswell -ftree-vectorize -fPIC -fstack-protector-strong -fno-plt -O2 -ffunction-sections -pipe -isystem /ext/anaconda2021.11/include",
    "GCC": "/ext/anaconda2021.11/bin/x86_64-conda_cos6-linux-gnu-gcc",
    "GCC_AR": "/ext/anaconda2021.11/bin/x86_64-conda_cos6-linux-gnu-gcc-ar",
    "GCC_NM": "/ext/anaconda2021.11/bin/x86_64-conda_cos6-linux-gnu-gcc-nm",
    "GCC_RANLIB": "/ext/anaconda2021.11/bin/x86_64-conda_cos6-linux-gnu-gcc-ranlib",
    "GDAL_DATA": "/ext/anaconda2021.11/share/gdal",
    "GFORTRAN": "/ext/anaconda2021.11/bin/x86_64-conda_cos6-linux-gnu-gfortran",
    "GPROF": "/ext/anaconda2021.11/bin/x86_64-conda_cos6-linux-gnu-gprof",
    "GXX": "/ext/anaconda2021.11/bin/x86_64-conda_cos6-linux-gnu-g++",
    "JAVA_HOME": "/ext/anaconda2021.11",
    "JAVA_HOME_CONDA_BACKUP": "",
    "JAVA_LD_LIBRARY_PATH": "/ext/anaconda2021.11/lib/server",
    "LD": "/ext/anaconda2021.11/bin/x86_64-conda_cos6-linux-gnu-ld",
    "LDFLAGS": "-Wl,-O2 -Wl,--sort-common -Wl,--as-needed -Wl,-z,relro -Wl,-z,now -Wl,--disable-new-dtags -Wl,--gc-sections -Wl,-rpath,/ext/anaconda2021.11/lib -Wl,-rpath-link,/ext/anaconda2021.11/lib -L/ext/anaconda2021.11/lib",
    "LD_GOLD": "/ext/anaconda2021.11/bin/x86_64-conda_cos6-linux-gnu-ld.gold",
    "LD_LIBRARY_PATH": "/ext/anaconda2021.11/lib",
    "MKL_INTERFACE_LAYER": "LP64,GNU",
    "MKL_THREADING_LAYER": "GNU",
    "NM": "/ext/anaconda2021.11/bin/x86_64-conda_cos6-linux-gnu-nm",
    "OBJCOPY": "/ext/anaconda2021.11/bin/x86_64-conda_cos6-linux-gnu-objcopy",
    "OBJDUMP": "/ext/anaconda2021.11/bin/x86_64-conda_cos6-linux-gnu-objdump",
    "OLDPWD": "/ext/anaconda2021.11",
    "PATH": "/ext/anaconda2021.11/bin:/ext/anaconda2021.11/bin:/ext/anaconda2021.11/condabin:/cocalc/bin:/cocalc/src/smc-project/bin:/home/salvus/bin:/home/salvus/.local/bin:/usr/lib/xpra:/ext/bin:/opt/ghc/bin:/usr/local/sbin:/usr/local/bin:/usr/sbin:/usr/bin:/sbin:/bin:/snap/bin:/usr/lib/postgresql/10/bin:/ext/data/homer/bin:/ext/data/weblogo",
    "PROJ_LIB": "/ext/anaconda2021.11/share/proj",
    "RANLIB": "/ext/anaconda2021.11/bin/x86_64-conda_cos6-linux-gnu-ranlib",
    "READELF": "/ext/anaconda2021.11/bin/x86_64-conda_cos6-linux-gnu-readelf",
    "RSTUDIO_WHICH_R": "/ext/anaconda2021.11/bin/R",
    "SIZE": "/ext/anaconda2021.11/bin/x86_64-conda_cos6-linux-gnu-size",
    "STRINGS": "/ext/anaconda2021.11/bin/x86_64-conda_cos6-linux-gnu-strings",
    "STRIP": "/ext/anaconda2021.11/bin/x86_64-conda_cos6-linux-gnu-strip",
    "_CE_CONDA": "",
    "_CE_M": "",
    "_CONDA_PYTHON_SYSCONFIGDATA_NAME": "_sysconfigdata_x86_64_conda_cos6_linux_gnu"
   },
   "language": "python",
   "metadata": {
    "cocalc": {
     "description": "Anaconda 2021.11 Python 3 environment",
     "priority": 10,
     "url": "https://www.anaconda.com/distribution/"
    }
   },
   "name": "anaconda2021",
   "resource_dir": "/ext/jupyter/kernels/anaconda2021"
  },
  "language_info": {
   "codemirror_mode": {
    "name": "ipython",
    "version": 3
   },
   "file_extension": ".py",
   "mimetype": "text/x-python",
   "name": "python",
   "nbconvert_exporter": "python",
   "pygments_lexer": "ipython3",
   "version": "3.9.7"
  }
 },
 "nbformat": 4,
 "nbformat_minor": 4
}