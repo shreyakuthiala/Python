{
 "cells": [
  {
   "cell_type": "markdown",
   "metadata": {
    "collapsed": false
   },
   "source": [
    "# **Homework 8**\n",
    "\n"
   ]
  },
  {
   "cell_type": "markdown",
   "metadata": {
    "collapsed": false
   },
   "source": [
    "Name:\n",
    "\n",
    "I collaborated with: \n",
    "\n"
   ]
  },
  {
   "cell_type": "code",
   "execution_count": 3,
   "metadata": {
    "collapsed": false
   },
   "outputs": [
   ],
   "source": [
    "import pandas as pd\n",
    "import numpy as np\n",
    "import seaborn as sns\n",
    "import matplotlib.pyplot as plt\n",
    "import scipy.stats as stats\n",
    "%matplotlib inline"
   ]
  },
  {
   "cell_type": "code",
   "execution_count": 4,
   "metadata": {
    "collapsed": false
   },
   "outputs": [
   ],
   "source": [
    "# Dataset: Plant species richness in ephemeral and permanent wetlands in Wisconsin, 2013\n",
    "\n",
    "plant_eph = [34,51,20,47,22,19,24,18,33,45,36,42,30,25,44,33,47,35,51,15,24,13,25,32,49,28,37,17,13,32,24,18,22]\n",
    "plant_perm = [31,40,43,37,23,45,53,46,44,25,47,34,41,31,37,34,42,37,14,29,18,15,14,28]\n",
    "\n",
    "# Diarrhea dataset from Figueroa-Quintanilla and others (1993)\n",
    "control = [131,178,127,403,413,60,859,247,278,66,210,237,105,79,307,90,244,165,59,420,159,105,667,551,61,351,59,197,173,62,386,276,85,381,567,240,539,480,157,346,69,1101,176,193,493,113,88,55,373,73,99,234,134,57,66,84,135,371,56,199,229,384,392,490,354,162,224,62,56,210,187,141,114,1677,55,615,55,193,68,590,154,130,559,75]\n",
    "treatment = [237,110,106,1099,65,74,156,60,98,234,105,79,258,61,60,196,57,55,55,62,247,121,76,365,69,245,75,236,157,100,55,185,122,126,73,133,86,430,127,56,113,55,67,116,361,168,427,570,306,107,57,231,60,398,367,137,58,66,968,78,229,69,155,115,71,55,88,1025,108,102,371,163,349,69,208,91,84,100,61,94,175,57,356,144,99]"
   ]
  },
  {
   "cell_type": "markdown",
   "metadata": {
    "collapsed": false
   },
   "source": [
    "#2\n",
    "Figure 6 illustrates the three things that affect the power of a statistical test. It depicts that with a larger sample size (n), the power is changed. Additionally, figure 6 shows that the variability between the subjects (as depicted by the entire graph), has an effect on the power of a statistical test. When there is a high p-value and larger sample size, the slope is much larger. However, a lower p-value and a smaller sample size also have an effect on the slope, where the lower it is, the smaller the slope is. In conclusion, figure 6 shows 3 ways in which the power of a statistical test can be changed: the p-value, the sample size, and the variability of the subjects.\n",
    "\n"
   ]
  },
  {
   "cell_type": "code",
   "execution_count": 5,
   "metadata": {
    "collapsed": false
   },
   "outputs": [
    {
     "data": {
      "text/plain": [
       "0.83"
      ]
     },
     "execution_count": 5,
     "metadata": {
     },
     "output_type": "execute_result"
    }
   ],
   "source": [
    "#3a\n",
    "def NHST_BigBoxCompare ( datal, data2):\n",
    "    #CONVERTS BOTH DATASETS INTO ARRAYS\n",
    "    datal_arr = np.array( datal)\n",
    "    data2_arr = np.array( data2 )\n",
    "    #FIND THE LENGTH OF BOTH DATASETS\n",
    "    #NUMBER OF PARTICIPANTS\n",
    "    n1 = len (datal_arr) #number of participants in datal\n",
    "    n2 = len (data2_arr)\n",
    "    #number of participants in data2\n",
    "    #FIND THE OBSERVED MEASUREMENT\n",
    "    #MEDIAN DIFFERENCE\n",
    "    #median for datal - median for data2\n",
    "    Mobs = np.median ( datal_arr) - np.median( data2_arr )\n",
    "    #FORCE OBSERVED VALUE TO BE A POSITIVE VALUE\n",
    "    pos_obs = np.abs (Mobs )\n",
    "    other_limit = -pos_obs\n",
    "    #JOIN BOTH DATASETS TOGETHER\n",
    "    pop = np.concatenate( [datal_arr,data2_arr] ) #one box (universe)\n",
    "    #SIMULATE THE NULL HYPOTHESIS\n",
    "    simulations = range (1000)\n",
    "    d_arr = np.zeros ( 1000 )\n",
    "    for k in simulations:\n",
    "        #RANDOMLY DISTRIBUTE VALUES INTO TWO GROUPS\n",
    "        resample_1 = np.random.choice (pop, n1)\n",
    "        resample_2 = np.random.choice( pop, n2)\n",
    "        #DIFFERENCE OF MEDIANS\n",
    "        d_arr[k] = np.median (resample_1) - np.median (resample_2)\n",
    "    #CALCULATE A TWO TAILED p-value pvalue\n",
    "    extreme_right = np.sum( d_arr >= pos_obs )\n",
    "    extreme_left = np.sum( d_arr <= other_limit )\n",
    "    extreme_total = extreme_right + extreme_left\n",
    "    pvalue = extreme_total/len(d_arr)\n",
    "    return pvalue\n",
    "\n",
    "def Power(dataset1, dataset2, sample_size1, sample_size2, alpha):\n",
    "    num_pvalues = 100\n",
    "    p_arr = np.zeros(num_pvalues)\n",
    "    for j in range(num_pvalues):\n",
    "        resample1 = np.random.choice(dataset1, sample_size1)\n",
    "        resample2 = np.random.choice(dataset2, sample_size2)\n",
    "        \n",
    "        p_arr[j] = NHST_BigBoxCompare(resample1, resample2)\n",
    "    return np.sum(p_arr < alpha) / len(p_arr)\n",
    "\n",
    "Power(plant_eph, plant_perm, 363, 264, 0.01)"
   ]
  },
  {
   "cell_type": "markdown",
   "metadata": {
    "collapsed": false
   },
   "source": [
    "#3b\n",
    "We shouldn't report that there is \"no difference between ephemeral and permanent wetlands in plant species riichness\" because the power is 0.05, which means that there is a high changethat we get a false negative which can therefore change the p-value and the interpretation of the results, since the power is 1- beta, which represents the chance of a false negative which is 0.95. The power is not at the standard of 80% (0.80), meaning that we should try to increase the power which can most easily be done by increasing the sample size.\n"
   ]
  },
  {
   "cell_type": "markdown",
   "metadata": {
    "collapsed": false
   },
   "source": [
    "#3c\n",
    "We can increase the power by increasing the sample size which increases the magnitude of the effect (across-group difference), or by decreasing the within-group variability. In the case of this study, we are able to sample more plant species richness in both ephemeral and permanent wetlands as well as gain larger sample sizes for both wetlands. Another way is by decreasing within-group variability by making sure the plant species we are sampling from are under the same conditions and that no outside effect is increasing the variability within the group.\n"
   ]
  },
  {
   "cell_type": "markdown",
   "metadata": {
    "collapsed": false
   },
   "source": [
    "#4\n",
    "The median difference between the two groups would be equal to 6, and the MADAM of both of the groups are 2 and 3 standard deviations away from 6 (or at least surpass the value of 6), meaning that it is unlikely to get a number as or more extreme as +-6. which would mean a smaller p-value.\n"
   ]
  },
  {
   "cell_type": "markdown",
   "metadata": {
    "collapsed": false
   },
   "source": [
    "#5\n",
    "Two ways that Figure 4 is similar to Lab 9 is that it createse a visualization via histogram of observed p-values depending on the simulations we ran. Additionally, there were similar data collections used of using two-populations and drawing random samples as well as making simulated comparisons. However, they are different in that the figure uses two-sample t-tests for each sample size, whereas in the lab we used the big box comparisons. This figure shows the effect of sample size as we only observed one sample size and did not simulate any different ones.\n"
   ]
  },
  {
   "cell_type": "code",
   "execution_count": 6,
   "metadata": {
    "collapsed": false
   },
   "outputs": [
    {
     "data": {
      "text/plain": [
       "33"
      ]
     },
     "execution_count": 6,
     "metadata": {
     },
     "output_type": "execute_result"
    }
   ],
   "source": [
    "plant_eph100 = 100 * plant_eph\n",
    "plant_perm100 = 100 * plant_perm\n",
    "\n",
    "len(plant_eph)"
   ]
  },
  {
   "cell_type": "code",
   "execution_count": 7,
   "metadata": {
    "collapsed": false
   },
   "outputs": [
    {
     "name": "stdout",
     "output_type": "stream",
     "text": [
      "<function Power at 0x7fb468ea0f70>\n"
     ]
    }
   ],
   "source": [
    "#6\n",
    "sim = range(100)\n",
    "plist = []\n",
    "for i in sim:\n",
    "    resample_1 = np.random.choice(plant_eph, 363)\n",
    "    resample_2 = np.random.choice(plant_perm, 264)\n",
    "    pvals = NHST_BigBoxCompare(resample_1, resample_2)\n",
    "    plist.append(pvals)\n",
    "\n",
    "p_array = np.array(plist)\n",
    "total_sig = np.sum(p_array<0.05)\n",
    "power = total_sig/(len(p_array))\n",
    "print(Power)"
   ]
  },
  {
   "cell_type": "code",
   "execution_count": 8,
   "metadata": {
    "collapsed": false
   },
   "outputs": [
   ],
   "source": [
    "#purpose: calculates the power of two groups which can be compared using the BigBox method\n",
    "#inputs: two datasets, th sample size of each dataset, and the threshold (the cut-off value of alpha)\n",
    "#outputs: power value\n",
    "\n",
    "def Power(dataset1, dataset2, sample_size1, sample_size2, alpha):\n",
    "    num_pvalues = 100 \n",
    "    p_arr = np.zeros(num_pvalues)\n",
    "    for j in range(num_pvalues):\n",
    "        resample1 = np.random.choice(dataset1, sample_size1)\n",
    "        resample2 = np.random.choice(dataset2, sample_size2)\n",
    "        \n",
    "        p_arr[j] = NHST_BigBoxCompare(resample1, resample2)\n",
    "    return np.sum(p_arr < alpha) / len(p_arr)"
   ]
  },
  {
   "cell_type": "code",
   "execution_count": 9,
   "metadata": {
    "collapsed": false
   },
   "outputs": [
    {
     "data": {
      "text/plain": [
       "0.86"
      ]
     },
     "execution_count": 9,
     "metadata": {
     },
     "output_type": "execute_result"
    }
   ],
   "source": [
    "Power(plant_eph, plant_perm, 363, 264, 0.01)\n",
    "#multiply the sample size by 10 ~ 74&\n",
    "#multiply the sample size by 11 ~ 83%\n",
    "\n",
    "#The sample size is about 10-11 times more than the original sample in order to get an effect size of at least 80%"
   ]
  },
  {
   "cell_type": "code",
   "execution_count": 16,
   "metadata": {
    "collapsed": false
   },
   "outputs": [
   ],
   "source": [
    "#7\n",
    "import numpy as np\n",
    "\n",
    "infected = [13, 382]\n",
    "non_infected = [1156, 48731]\n",
    "data_modified = np.array([infected, non_infected])\n",
    "\n",
    "# Define 'data' variable\n",
    "data = data_modified\n",
    "\n",
    "def relative_risk(data_matrix):\n",
    "    propA = data_matrix[0,0] / (data_matrix[0,0] + data_matrix[1,0])\n",
    "    propB = data_matrix[0,1] / (data_matrix[0,1] + data_matrix[1,1])\n",
    "    rr = propA / propB\n",
    "    return rr\n",
    "\n",
    "rr_obs = relative_risk(data)\n",
    "Mobs = rr_obs\n",
    "Mobs\n",
    "\n",
    "total_drug = data[0,0] + data[1,0]\n",
    "total_placebo = data[0,1] + data[1,1]\n",
    "total_infected = np.sum(infected)\n",
    "total_noninfected = np.sum(non_infected)"
   ]
  },
  {
   "cell_type": "code",
   "execution_count": 15,
   "metadata": {
    "collapsed": false
   },
   "outputs": [
    {
     "data": {
      "text/plain": [
       "1.4297560451273965"
      ]
     },
     "execution_count": 15,
     "metadata": {
     },
     "output_type": "execute_result"
    }
   ],
   "source": [
    "factor = 2/relative_risk(data)\n",
    "factor\n",
    "infected = [factor*13, 382]\n",
    "non_infected = [total_drug - 13 * factor, 48731]\n",
    "data_motified = np.array([infected, non_infected])\n",
    "data_motified\n",
    "\n",
    "relative_risk(data_modified)"
   ]
  },
  {
   "cell_type": "code",
   "execution_count": 17,
   "metadata": {
    "collapsed": false
   },
   "outputs": [
    {
     "data": {
      "text/plain": [
       "0.999"
      ]
     },
     "execution_count": 17,
     "metadata": {
     },
     "output_type": "execute_result"
    }
   ],
   "source": [
    "def NHST_relative_risk(data_matrix):\n",
    "    total_drug = np.sum(data_matrix[:,0])\n",
    "    total_plac = np.sum(data_matrix[:,1])\n",
    "    \n",
    "    total_infected = np.sum(data_matrix[0,:])\n",
    "    total_noninfected = np.sum(data_matrix[1,:])\n",
    "    total_p = np.sum(data_matrix)\n",
    "    prob = total_infected / total_p\n",
    "    \n",
    "    rr_obs = relative_risk(data_matrix)\n",
    "    \n",
    "    simulations = range(10000)\n",
    "    RR_arr = np.zeros(1000)\n",
    "    for i in simulations:\n",
    "        R = np.zeros([2,2])\n",
    "        infected_drug = np.random.binomial(total_drug, prob)\n",
    "        non_infected_drug = total_drug - infected_drug\n",
    "        infected_plac = np.random.binomial(total_placebo, prob)\n",
    "        non_infected_plac = total_placebo - infected_plac\n",
    "        \n",
    "        R[0,0] = infected_drug\n",
    "        R[1,0] = non_infected_drug\n",
    "        R[0,1] = infected_plac\n",
    "        R[1,1] = non_infected_plac\n",
    "        \n",
    "        rr_resample = relative_risk(R)\n",
    "        RR_arr[1] = rr_resample\n",
    "        \n",
    "        if rr_obs > 1:\n",
    "            pvalue = (np.sum(RR_arr >= rr_obs) + np.sum(RR_arr <= 1/rr_obs)) / len(RR_arr)\n",
    "        else:\n",
    "            pvalue = (np.sum(RR_arr <= rr_obs) + np.sum(RR_arr >= 1/rr_obs)) / len(RR_arr)\n",
    "            \n",
    "        return pvalue\n",
    "NHST_relative_risk(data_motified)"
   ]
  },
  {
   "cell_type": "code",
   "execution_count": 0,
   "metadata": {
    "collapsed": false
   },
   "outputs": [
   ],
   "source": [
   ]
  },
  {
   "cell_type": "code",
   "execution_count": 0,
   "metadata": {
    "collapsed": false
   },
   "outputs": [
   ],
   "source": [
   ]
  },
  {
   "cell_type": "code",
   "execution_count": 0,
   "metadata": {
    "collapsed": false
   },
   "outputs": [
   ],
   "source": [
   ]
  },
  {
   "cell_type": "code",
   "execution_count": 0,
   "metadata": {
    "collapsed": false
   },
   "outputs": [
   ],
   "source": [
   ]
  },
  {
   "cell_type": "code",
   "execution_count": 0,
   "metadata": {
    "collapsed": false
   },
   "outputs": [
   ],
   "source": [
   ]
  },
  {
   "cell_type": "code",
   "execution_count": 0,
   "metadata": {
    "collapsed": false
   },
   "outputs": [
   ],
   "source": [
   ]
  },
  {
   "cell_type": "code",
   "execution_count": 0,
   "metadata": {
    "collapsed": false
   },
   "outputs": [
   ],
   "source": [
   ]
  },
  {
   "cell_type": "code",
   "execution_count": 0,
   "metadata": {
    "collapsed": false
   },
   "outputs": [
   ],
   "source": [
   ]
  },
  {
   "cell_type": "code",
   "execution_count": 0,
   "metadata": {
    "collapsed": false
   },
   "outputs": [
   ],
   "source": [
   ]
  }
 ],
 "metadata": {
  "kernelspec": {
   "argv": [
    "/ext/anaconda2021.11/bin/python3",
    "-E",
    "-m",
    "ipykernel",
    "--matplotlib=inline",
    "-c",
    "%config InlineBackend.figure_formats = set(['retina'])\nimport matplotlib; matplotlib.rcParams['figure.figsize'] = (12, 7)",
    "-f",
    "{connection_file}"
   ],
   "display_name": "Python 3 (Anaconda 2021)",
   "env": {
    "ADDR2LINE": "/ext/anaconda2021.11/bin/x86_64-conda_cos6-linux-gnu-addr2line",
    "ANACONDA2021": "/ext/anaconda2021.11",
    "ANACONDA3": "$EXT/anaconda3",
    "ANACONDA5": "$EXT/anaconda5",
    "AR": "/ext/anaconda2021.11/bin/x86_64-conda_cos6-linux-gnu-ar",
    "AS": "/ext/anaconda2021.11/bin/x86_64-conda_cos6-linux-gnu-as",
    "CC": "/ext/anaconda2021.11/bin/x86_64-conda_cos6-linux-gnu-cc",
    "CFLAGS": "-march=nocona -mtune=haswell -ftree-vectorize -fPIC -fstack-protector-strong -fno-plt -O2 -ffunction-sections -pipe -isystem /ext/anaconda2021.11/include",
    "CMAKE_PREFIX_PATH": "/ext/anaconda2021.11:/ext/anaconda2021.11/x86_64-conda_cos6-linux-gnu/sysroot/usr",
    "CONDA_BACKUP_HOST": "x86_64-conda_cos6-linux-gnu",
    "CONDA_BUILD_SYSROOT": "/ext/anaconda2021.11/x86_64-conda_cos6-linux-gnu/sysroot",
    "CONDA_DEFAULT_ENV": "base",
    "CONDA_EXE": "/ext/anaconda2021.11/bin/conda",
    "CONDA_MKL_INTERFACE_LAYER_BACKUP": "",
    "CONDA_PREFIX": "/ext/anaconda2021.11",
    "CONDA_PROMPT_MODIFIER": "(base) ",
    "CONDA_PYTHON_EXE": "/ext/anaconda2021.11/bin/python",
    "CONDA_SHLVL": "1",
    "CPP": "/ext/anaconda2021.11/bin/x86_64-conda_cos6-linux-gnu-cpp",
    "CPPFLAGS": "-DNDEBUG -D_FORTIFY_SOURCE=2 -O2 -isystem /ext/anaconda2021.11/include",
    "CXX": "/ext/anaconda2021.11/bin/x86_64-conda_cos6-linux-gnu-c++",
    "CXXFILT": "/ext/anaconda2021.11/bin/x86_64-conda_cos6-linux-gnu-c++filt",
    "CXXFLAGS": "-fvisibility-inlines-hidden -std=c++17 -fmessage-length=0 -march=nocona -mtune=haswell -ftree-vectorize -fPIC -fstack-protector-strong -fno-plt -O2 -ffunction-sections -pipe -isystem /ext/anaconda2021.11/include",
    "DEBUG_CFLAGS": "-march=nocona -mtune=haswell -ftree-vectorize -fPIC -fstack-protector-all -fno-plt -Og -g -Wall -Wextra -fvar-tracking-assignments -ffunction-sections -pipe -isystem /ext/anaconda2021.11/include",
    "DEBUG_CPPFLAGS": "-D_DEBUG -D_FORTIFY_SOURCE=2 -Og -isystem /ext/anaconda2021.11/include",
    "DEBUG_CXXFLAGS": "-fvisibility-inlines-hidden -std=c++17 -fmessage-length=0 -march=nocona -mtune=haswell -ftree-vectorize -fPIC -fstack-protector-all -fno-plt -Og -g -Wall -Wextra -fvar-tracking-assignments -ffunction-sections -pipe -isystem /ext/anaconda2021.11/include",
    "DEBUG_FFLAGS": "-fopenmp -march=nocona -mtune=haswell -ftree-vectorize -fPIC -fstack-protector-strong -fno-plt -O2 -ffunction-sections -pipe -isystem /ext/anaconda2021.11/include -fopenmp -march=nocona -mtune=haswell -ftree-vectorize -fPIC -fstack-protector-all -fno-plt -Og -g -Wall -Wextra -fcheck=all -fbacktrace -fimplicit-none -fvar-tracking-assignments -ffunction-sections -pipe",
    "DEBUG_FORTRANFLAGS": "-fopenmp -march=nocona -mtune=haswell -ftree-vectorize -fPIC -fstack-protector-strong -fno-plt -O2 -ffunction-sections -pipe -isystem /ext/anaconda2021.11/include -fopenmp -march=nocona -mtune=haswell -ftree-vectorize -fPIC -fstack-protector-all -fno-plt -Og -g -Wall -Wextra -fcheck=all -fbacktrace -fimplicit-none -fvar-tracking-assignments -ffunction-sections -pipe",
    "ELFEDIT": "/ext/anaconda2021.11/bin/x86_64-conda_cos6-linux-gnu-elfedit",
    "F77": "/ext/anaconda2021.11/bin/x86_64-conda_cos6-linux-gnu-gfortran",
    "F90": "/ext/anaconda2021.11/bin/x86_64-conda_cos6-linux-gnu-gfortran",
    "F95": "/ext/anaconda2021.11/bin/x86_64-conda_cos6-linux-gnu-f95",
    "FC": "/ext/anaconda2021.11/bin/x86_64-conda_cos6-linux-gnu-gfortran",
    "FFLAGS": "-fopenmp -march=nocona -mtune=haswell -ftree-vectorize -fPIC -fstack-protector-strong -fno-plt -O2 -ffunction-sections -pipe -isystem /ext/anaconda2021.11/include",
    "FORTRANFLAGS": "-fopenmp -march=nocona -mtune=haswell -ftree-vectorize -fPIC -fstack-protector-strong -fno-plt -O2 -ffunction-sections -pipe -isystem /ext/anaconda2021.11/include",
    "GCC": "/ext/anaconda2021.11/bin/x86_64-conda_cos6-linux-gnu-gcc",
    "GCC_AR": "/ext/anaconda2021.11/bin/x86_64-conda_cos6-linux-gnu-gcc-ar",
    "GCC_NM": "/ext/anaconda2021.11/bin/x86_64-conda_cos6-linux-gnu-gcc-nm",
    "GCC_RANLIB": "/ext/anaconda2021.11/bin/x86_64-conda_cos6-linux-gnu-gcc-ranlib",
    "GDAL_DATA": "/ext/anaconda2021.11/share/gdal",
    "GFORTRAN": "/ext/anaconda2021.11/bin/x86_64-conda_cos6-linux-gnu-gfortran",
    "GPROF": "/ext/anaconda2021.11/bin/x86_64-conda_cos6-linux-gnu-gprof",
    "GXX": "/ext/anaconda2021.11/bin/x86_64-conda_cos6-linux-gnu-g++",
    "JAVA_HOME": "/ext/anaconda2021.11",
    "JAVA_HOME_CONDA_BACKUP": "",
    "JAVA_LD_LIBRARY_PATH": "/ext/anaconda2021.11/lib/server",
    "LD": "/ext/anaconda2021.11/bin/x86_64-conda_cos6-linux-gnu-ld",
    "LDFLAGS": "-Wl,-O2 -Wl,--sort-common -Wl,--as-needed -Wl,-z,relro -Wl,-z,now -Wl,--disable-new-dtags -Wl,--gc-sections -Wl,-rpath,/ext/anaconda2021.11/lib -Wl,-rpath-link,/ext/anaconda2021.11/lib -L/ext/anaconda2021.11/lib",
    "LD_GOLD": "/ext/anaconda2021.11/bin/x86_64-conda_cos6-linux-gnu-ld.gold",
    "LD_LIBRARY_PATH": "/ext/anaconda2021.11/lib",
    "MKL_INTERFACE_LAYER": "LP64,GNU",
    "MKL_THREADING_LAYER": "GNU",
    "NM": "/ext/anaconda2021.11/bin/x86_64-conda_cos6-linux-gnu-nm",
    "OBJCOPY": "/ext/anaconda2021.11/bin/x86_64-conda_cos6-linux-gnu-objcopy",
    "OBJDUMP": "/ext/anaconda2021.11/bin/x86_64-conda_cos6-linux-gnu-objdump",
    "OLDPWD": "/ext/anaconda2021.11",
    "PATH": "/ext/anaconda2021.11/bin:/ext/anaconda2021.11/bin:/ext/anaconda2021.11/condabin:/cocalc/bin:/cocalc/src/smc-project/bin:/home/salvus/bin:/home/salvus/.local/bin:/usr/lib/xpra:/ext/bin:/opt/ghc/bin:/usr/local/sbin:/usr/local/bin:/usr/sbin:/usr/bin:/sbin:/bin:/snap/bin:/usr/lib/postgresql/10/bin:/ext/data/homer/bin:/ext/data/weblogo",
    "PROJ_LIB": "/ext/anaconda2021.11/share/proj",
    "RANLIB": "/ext/anaconda2021.11/bin/x86_64-conda_cos6-linux-gnu-ranlib",
    "READELF": "/ext/anaconda2021.11/bin/x86_64-conda_cos6-linux-gnu-readelf",
    "RSTUDIO_WHICH_R": "/ext/anaconda2021.11/bin/R",
    "SIZE": "/ext/anaconda2021.11/bin/x86_64-conda_cos6-linux-gnu-size",
    "STRINGS": "/ext/anaconda2021.11/bin/x86_64-conda_cos6-linux-gnu-strings",
    "STRIP": "/ext/anaconda2021.11/bin/x86_64-conda_cos6-linux-gnu-strip",
    "_CE_CONDA": "",
    "_CE_M": "",
    "_CONDA_PYTHON_SYSCONFIGDATA_NAME": "_sysconfigdata_x86_64_conda_cos6_linux_gnu"
   },
   "language": "python",
   "metadata": {
    "cocalc": {
     "description": "Anaconda 2021.11 Python 3 environment",
     "priority": 10,
     "url": "https://www.anaconda.com/distribution/"
    }
   },
   "name": "anaconda2021",
   "resource_dir": "/ext/jupyter/kernels/anaconda2021"
  },
  "language_info": {
   "codemirror_mode": {
    "name": "ipython",
    "version": 3
   },
   "file_extension": ".py",
   "mimetype": "text/x-python",
   "name": "python",
   "nbconvert_exporter": "python",
   "pygments_lexer": "ipython3",
   "version": "3.9.7"
  }
 },
 "nbformat": 4,
 "nbformat_minor": 4
}